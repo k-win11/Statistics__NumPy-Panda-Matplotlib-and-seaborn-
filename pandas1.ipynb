{
 "cells": [
  {
   "cell_type": "code",
   "execution_count": null,
   "id": "50f65331",
   "metadata": {},
   "outputs": [],
   "source": [
    "#create Series from Dec"
   ]
  },
  {
   "cell_type": "code",
   "execution_count": 46,
   "id": "95ff3986",
   "metadata": {},
   "outputs": [
    {
     "name": "stdout",
     "output_type": "stream",
     "text": [
      "india      20\n",
      "pak        40\n",
      "bangla     40\n",
      "navi       50\n",
      "roh       600\n",
      "ert       607\n",
      "eew         8\n",
      "arsa       10\n",
      "dtype: int64\n"
     ]
    }
   ],
   "source": [
    "import pandas as pd\n",
    "import numpy as np\n",
    "\n",
    "country=pd.Series([20,40,40,50,600,607,8,10],index=['india','pak','bangla','navi','roh','ert','eew','arsa'])\n",
    "\n",
    "print(country)\n",
    "\n"
   ]
  },
  {
   "cell_type": "code",
   "execution_count": null,
   "id": "e1f6e374",
   "metadata": {},
   "outputs": [],
   "source": [
    "#Accessing Elemnts in Series"
   ]
  },
  {
   "cell_type": "code",
   "execution_count": 47,
   "id": "8eed1445",
   "metadata": {},
   "outputs": [
    {
     "data": {
      "text/plain": [
       "20"
      ]
     },
     "execution_count": 47,
     "metadata": {},
     "output_type": "execute_result"
    }
   ],
   "source": [
    "country[0]"
   ]
  },
  {
   "cell_type": "code",
   "execution_count": 48,
   "id": "b075fe37",
   "metadata": {},
   "outputs": [
    {
     "data": {
      "text/plain": [
       "pak        40\n",
       "bangla     40\n",
       "navi       50\n",
       "roh       600\n",
       "dtype: int64"
      ]
     },
     "execution_count": 48,
     "metadata": {},
     "output_type": "execute_result"
    }
   ],
   "source": [
    "country[1:5]"
   ]
  },
  {
   "cell_type": "code",
   "execution_count": 49,
   "id": "46c4a9d4",
   "metadata": {},
   "outputs": [
    {
     "data": {
      "text/plain": [
       "20"
      ]
     },
     "execution_count": 49,
     "metadata": {},
     "output_type": "execute_result"
    }
   ],
   "source": [
    "country.loc['india']"
   ]
  },
  {
   "cell_type": "code",
   "execution_count": 50,
   "id": "d57ef547",
   "metadata": {},
   "outputs": [
    {
     "data": {
      "text/plain": [
       "20"
      ]
     },
     "execution_count": 50,
     "metadata": {},
     "output_type": "execute_result"
    }
   ],
   "source": [
    "country.iloc[0]"
   ]
  },
  {
   "cell_type": "code",
   "execution_count": 51,
   "id": "477fc2f6",
   "metadata": {},
   "outputs": [
    {
     "data": {
      "text/plain": [
       "607"
      ]
     },
     "execution_count": 51,
     "metadata": {},
     "output_type": "execute_result"
    }
   ],
   "source": [
    "country.iloc[5]"
   ]
  },
  {
   "cell_type": "code",
   "execution_count": null,
   "id": "a4192558",
   "metadata": {},
   "outputs": [],
   "source": []
  }
 ],
 "metadata": {
  "kernelspec": {
   "display_name": "Python 3 (ipykernel)",
   "language": "python",
   "name": "python3"
  },
  "language_info": {
   "codemirror_mode": {
    "name": "ipython",
    "version": 3
   },
   "file_extension": ".py",
   "mimetype": "text/x-python",
   "name": "python",
   "nbconvert_exporter": "python",
   "pygments_lexer": "ipython3",
   "version": "3.9.12"
  }
 },
 "nbformat": 4,
 "nbformat_minor": 5
}
